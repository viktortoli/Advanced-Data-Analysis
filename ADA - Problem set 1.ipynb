{
 "cells": [
  {
   "cell_type": "markdown",
   "id": "2bc8bd7c",
   "metadata": {},
   "source": [
    "### Write a program that does the following in order:\n",
    "    1. Asks the user to enter a number “x”\n",
    "    2. Asks the user to enter a number “y”\n",
    "    3. Prints out number “x”, raised to the power “y”.\n",
    "    4. Prints out the log (base 2) of “x”.\n"
   ]
  },
  {
   "cell_type": "code",
   "execution_count": 2,
   "id": "24cdd9d6",
   "metadata": {},
   "outputs": [
    {
     "name": "stdout",
     "output_type": "stream",
     "text": [
      "Enter a number x :10\n",
      "Enter a number y :20\n",
      "100000000000000000000\n",
      "3.321928094887362\n"
     ]
    }
   ],
   "source": [
    "from math import log2\n",
    "x = int(input(\"Enter a number x :\"))\n",
    "y = int(input(\"Enter a number y :\"))\n",
    "print(x**y)\n",
    "print(log2(x))"
   ]
  },
  {
   "cell_type": "markdown",
   "id": "9543af6c",
   "metadata": {},
   "source": [
    "### Convert from meters to British length units.\n",
    "    Make a program where you set a length given in meters and then compute and write out the\n",
    "    corresponding length measured in inches, in feet, in yards, and in miles. Use that one inch is 2.54\n",
    "    cm, one foot is 12 inches, one yard is 3 feet, and one British mile is 1760 yards. As a verification, a\n",
    "    length of 640 meters corresponds to 25196.85 inches, 2099.74 feet, 699.91 yards, or 0.3977 miles."
   ]
  },
  {
   "cell_type": "code",
   "execution_count": 28,
   "id": "49af5dc1",
   "metadata": {},
   "outputs": [
    {
     "name": "stdout",
     "output_type": "stream",
     "text": [
      "640 meters are 25196.85 inches\n",
      "640 meters are 2099.74 feet\n",
      "640 meters are 0.3977 miles\n",
      "640 meters are 699.91 yards\n"
     ]
    }
   ],
   "source": [
    "def meters_conversion(x, unit='all_units'):\n",
    "    if 'inches' in unit or 'all_units' in unit:\n",
    "        print(f\"{x} meters are {x / 0.0254:.2f} inches\")\n",
    "    if 'feet' in unit or 'all_units' in unit:\n",
    "        print(f\"{x} meters are {x / 0.3048:.2f} feet\")\n",
    "    if 'miles' in unit or 'all_units' in unit:\n",
    "        print(f\"{x} meters are {x / 1609.34:.4f} miles\")\n",
    "    if 'yards' in unit or 'all_units' in unit:\n",
    "        print(f\"{x} meters are {x / 0.9144:.2f} yards\")\n",
    "    \n",
    "meters_conversion(640)\n",
    "          \n"
   ]
  },
  {
   "cell_type": "markdown",
   "id": "80a7a419",
   "metadata": {},
   "source": [
    "### Compute the growth of money in a bank. Let p be a bank’s interest rate in percent per year. \n",
    "    An initial amount A has then grown to :\n",
    "$$\n",
    "A \\left(1 + \\frac{p}{100}\\right)^n\n",
    "$$\n",
    "    after n years. Make a program for computing how much money 1000 Swiss Francs have grown to\n",
    "    after three years with 5% interest rate. "
   ]
  },
  {
   "cell_type": "code",
   "execution_count": 15,
   "id": "0b3d7cf3",
   "metadata": {},
   "outputs": [
    {
     "data": {
      "text/plain": [
       "1157.6250000000002"
      ]
     },
     "execution_count": 15,
     "metadata": {},
     "output_type": "execute_result"
    }
   ],
   "source": [
    "def growth(wealth, years, rate = 5):\n",
    "    return wealth * (1 + rate/100)**years\n",
    "\n",
    "growth(1000, 3)"
   ]
  },
  {
   "cell_type": "markdown",
   "id": "33368768",
   "metadata": {},
   "source": [
    "### Type these short programs in your editor and execute them. When they do not work, identify and correct the erroneous statements.\n",
    "   #### a) Does sin2(x) + cos2(x) = 1?\n",
    "    \n",
    "    from math import sin, cos\n",
    "    x = pi/4\n",
    "    1_val = sin^2(x) + cos^2(x)\n",
    "    print (1_VAL)\n"
   ]
  },
  {
   "cell_type": "code",
   "execution_count": 34,
   "id": "b74056ed",
   "metadata": {},
   "outputs": [
    {
     "name": "stdout",
     "output_type": "stream",
     "text": [
      "1.0000000000000002\n"
     ]
    }
   ],
   "source": [
    "from math import sin, cos, pi\n",
    "x = pi/4\n",
    "val = sin(x)**2 + cos(x)**2\n",
    "print(val)"
   ]
  },
  {
   "cell_type": "markdown",
   "id": "9f842f0e",
   "metadata": {},
   "source": [
    "#### b) Work with the expressions for movement with constant acceleration:\n",
    "    v0 = 3 m/s\n",
    "    t = 1 s\n",
    "    a = 2 m/s**2\n",
    "    s = v0*t + 1/2 a*t**2\n",
    "    print (s)b) Work with the expressions for movement with constant acceleration:\n",
    "    v0 = 3 m/s\n",
    "    t = 1 s\n",
    "    a = 2 m/s**2\n",
    "    s = v0*t + 1/2 a*t**2\n",
    "    print (s)"
   ]
  },
  {
   "cell_type": "code",
   "execution_count": 36,
   "id": "b8beee3f",
   "metadata": {},
   "outputs": [
    {
     "name": "stdout",
     "output_type": "stream",
     "text": [
      "4.0\n"
     ]
    }
   ],
   "source": [
    "v0 = 3 #m/s\n",
    "t = 1 #s\n",
    "a = 2 #m/s^2\n",
    "s = v0*t + 1/2*(a*t**2)\n",
    "print(s)"
   ]
  },
  {
   "cell_type": "markdown",
   "id": "4fe1e270",
   "metadata": {},
   "source": [
    "### Exercise 5\n",
    "    Given a quadratic equation,\n",
    "    \n",
    "$$ \n",
    "    ax^2 + bx + c = 0\n",
    "$$\n",
    "\n",
    "    the two roots are\n",
    "    \n",
    "$$\n",
    "    x = \\frac{-b \\pm \\sqrt{b^2 - 4ac}}{2a}\n",
    "$$\n",
    "\n",
    "    What are the problems with the following program?\n",
    "    a = 2; b = 1; c = 2\n",
    "    from math import sqrt\n",
    "    q = sqrt(b*b - 4*a*c)\n",
    "    x1 = (-b + q)/2*a\n",
    "    x2 = (-b - q)/2*a\n",
    "    print x1, x2"
   ]
  },
  {
   "cell_type": "code",
   "execution_count": 45,
   "id": "21a92dc8",
   "metadata": {},
   "outputs": [
    {
     "data": {
      "text/plain": [
       "(-1.5278640450004204, -10.47213595499958)"
      ]
     },
     "execution_count": 45,
     "metadata": {},
     "output_type": "execute_result"
    }
   ],
   "source": [
    "from math import sqrt\n",
    "\n",
    "def roots(a, b, c):\n",
    "    try : \n",
    "        q = sqrt(b*b - 4*a*c)\n",
    "        x1 = (-b + q)/2*a\n",
    "        x2 = (-b - q)/2*a\n",
    "        return x1, x2\n",
    "    except ValueError:\n",
    "        print(f\"No real solutions with the parameters a = {a}, b = {b}, c = {c} \")\n",
    "        \n",
    "roots(2, 6, 2)\n"
   ]
  },
  {
   "cell_type": "markdown",
   "id": "751fbfdd",
   "metadata": {},
   "source": [
    "### Exercise 6\n",
    "    The formula for converting Fahrenheit degrees to Celsius reads\n",
    "$$\n",
    "C = \\frac{5}{9} \\cdot (F - 32)\n",
    "$$\n",
    "    Write a function C(F) that implements this formula. To verify the implementation of C(F), you can\n",
    "    convert a Celsius temperature to Fahrenheit and then back to Celsius again. That is, you can\n",
    "    check that the boolean expression c == C(F(c)) is True for any temperature c."
   ]
  },
  {
   "cell_type": "code",
   "execution_count": 50,
   "id": "c58aed0d",
   "metadata": {},
   "outputs": [
    {
     "data": {
      "text/plain": [
       "True"
      ]
     },
     "execution_count": 50,
     "metadata": {},
     "output_type": "execute_result"
    }
   ],
   "source": [
    "def fahrenheit_to_celcius(ftemp):\n",
    "    ctemp = (ftemp - 32) * 5/9\n",
    "    return ctemp\n",
    "\n",
    "def celcius_to_fahrenheit(ctemp):\n",
    "    ftemp = ctemp * 9/5 + 32\n",
    "    return ftemp\n",
    "\n",
    "100 == fahrenheit_to_celcius(celcius_to_fahrenheit(100))"
   ]
  },
  {
   "cell_type": "markdown",
   "id": "1da6fe77",
   "metadata": {},
   "source": [
    "### Exercise 7\n",
    "    The standard Python function called sum takes a list as argument\n",
    "    and computes the sum of the elements in the list:\n",
    "    >>> sum([1,3,5,-5])\n",
    "    4\n",
    "    Implement your own version of sum for a list of arbitrary length."
   ]
  },
  {
   "cell_type": "code",
   "execution_count": 53,
   "id": "efd7c25f",
   "metadata": {},
   "outputs": [
    {
     "data": {
      "text/plain": [
       "4"
      ]
     },
     "execution_count": 53,
     "metadata": {},
     "output_type": "execute_result"
    }
   ],
   "source": [
    "l = [1, 3, 5, -5]\n",
    "\n",
    "def somme(liste):\n",
    "    x = 0\n",
    "    for i in liste:\n",
    "        x += i\n",
    "    return x\n",
    "\n",
    "somme(l)"
   ]
  },
  {
   "cell_type": "code",
   "execution_count": null,
   "id": "7185a681",
   "metadata": {},
   "outputs": [],
   "source": []
  }
 ],
 "metadata": {
  "kernelspec": {
   "display_name": "Python 3 (ipykernel)",
   "language": "python",
   "name": "python3"
  },
  "language_info": {
   "codemirror_mode": {
    "name": "ipython",
    "version": 3
   },
   "file_extension": ".py",
   "mimetype": "text/x-python",
   "name": "python",
   "nbconvert_exporter": "python",
   "pygments_lexer": "ipython3",
   "version": "3.11.5"
  }
 },
 "nbformat": 4,
 "nbformat_minor": 5
}
